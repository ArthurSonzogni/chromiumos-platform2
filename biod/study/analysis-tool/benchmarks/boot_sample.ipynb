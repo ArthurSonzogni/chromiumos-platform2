{
 "cells": [
  {
   "cell_type": "code",
   "execution_count": null,
   "metadata": {},
   "outputs": [],
   "source": [
    "%pip install pandas numpy matplotlib scipy"
   ]
  },
  {
   "cell_type": "code",
   "execution_count": null,
   "metadata": {},
   "outputs": [],
   "source": [
    "%load_ext autoreload\n",
    "%autoreload 1\n",
    "\n",
    "import os\n",
    "import pathlib\n",
    "import sys  # sys.getsizeof()\n",
    "from math import radians, sqrt\n",
    "\n",
    "import matplotlib\n",
    "import matplotlib.pyplot as plt\n",
    "import numpy as np\n",
    "import pandas as pd\n",
    "import scipy.stats as st\n",
    "from IPython.display import HTML, Markdown, display\n",
    "from matplotlib import pyplot as plt\n",
    "\n",
    "%aimport fpsutils, experiment, fpc_bet_results\n",
    "import fpsutils\n",
    "from experiment import Experiment\n",
    "from fpc_bet_results import FPCBETResults\n"
   ]
  },
  {
   "cell_type": "code",
   "execution_count": null,
   "metadata": {},
   "outputs": [],
   "source": [
    "rng = np.random.default_rng()"
   ]
  },
  {
   "cell_type": "code",
   "execution_count": null,
   "metadata": {},
   "outputs": [],
   "source": [
    "# Ways to take bootstrap sample in order from fastest to slowest.\n",
    "\n",
    "%timeit rng.choice(4096, size=4096, replace=True)\n",
    "\n",
    "l = np.array(np.arange(4096))\n",
    "%timeit rng.choice(l, size=4096, replace=True)\n",
    "\n",
    "l = np.arange(4096)\n",
    "%timeit rng.choice(l, size=4096, replace=True)\n",
    "\n",
    "# Skip value 2048 and reduce size by 1.\n",
    "l = np.concatenate((np.arange(2048),  np.arange(2049, 4096)))\n",
    "%timeit rng.choice(l, size=4095, replace=True)\n",
    "\n",
    "l = list(range(4096))\n",
    "%timeit rng.choice(l, size=4096, replace=True)"
   ]
  }
 ],
 "metadata": {
  "interpreter": {
   "hash": "31f2aee4e71d21fbe5cf8b01ff0e069b9275f58929596ceb00d14d90e3e16cd6"
  },
  "kernelspec": {
   "display_name": "Python 3.9.10 64-bit",
   "language": "python",
   "name": "python3"
  },
  "language_info": {
   "codemirror_mode": {
    "name": "ipython",
    "version": 3
   },
   "file_extension": ".py",
   "mimetype": "text/x-python",
   "name": "python",
   "nbconvert_exporter": "python",
   "pygments_lexer": "ipython3",
   "version": "3.9.9"
  }
 },
 "nbformat": 4,
 "nbformat_minor": 2
}
